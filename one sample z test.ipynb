{
 "cells": [
  {
   "cell_type": "code",
   "execution_count": 9,
   "id": "805858f8-62c1-4dfc-8637-71ac750dca91",
   "metadata": {},
   "outputs": [],
   "source": [
    "from statsmodels.stats import weightstats"
   ]
  },
  {
   "cell_type": "code",
   "execution_count": 5,
   "id": "d8adc3b3-05b1-4362-92cc-7b99a6780c60",
   "metadata": {},
   "outputs": [
    {
     "name": "stdout",
     "output_type": "stream",
     "text": [
      "Z Score -38.0\n"
     ]
    }
   ],
   "source": [
    "import numpy as np\n",
    "\n",
    "def one_sample_z_test(sample_mean, population_mean, population_std_dev, sample_size):\n",
    "    # Calculate the standard error of the mean\n",
    "    standard_error = population_std_dev / np.sqrt(sample_size)\n",
    "    \n",
    "    # Calculate the Z score\n",
    "    z_score = (sample_mean - population_mean) / standard_error\n",
    "    \n",
    "    return z_score\n",
    "\n",
    "# Provided information\n",
    "sample_mean = 3050\n",
    "population_mean = 4000\n",
    "population_std_dev = 125\n",
    "sample_size = 25\n",
    "aplha = 0.05\n",
    "\n",
    "z_score = one_sample_z_test(sample_mean, population_mean, population_std_dev, sample_size)\n",
    "print(\"Z Score\", z_score)\n",
    "\n"
   ]
  },
  {
   "cell_type": "code",
   "execution_count": 13,
   "id": "00c6fdf8-3d6f-4ea7-b611-02fd075b74ee",
   "metadata": {},
   "outputs": [
    {
     "data": {
      "text/plain": [
       "0.0"
      ]
     },
     "execution_count": 13,
     "metadata": {},
     "output_type": "execute_result"
    }
   ],
   "source": [
    "from  scipy import stats\n",
    "p_value = stats.norm.cdf(z_score)\n",
    "p_value"
   ]
  },
  {
   "cell_type": "code",
   "execution_count": 15,
   "id": "8415bb3c-208b-465d-98ec-d72efb819d43",
   "metadata": {},
   "outputs": [
    {
     "name": "stdout",
     "output_type": "stream",
     "text": [
      "Ho is rejected and H1 is accepted\n"
     ]
    }
   ],
   "source": [
    "alpha = 0.05\n",
    "if p_value <alpha:\n",
    "    print(\"Ho is rejected and H1 is accepted\")\n",
    "else:\n",
    "     print(\"Ho is accepted and H1 is rejected\")"
   ]
  },
  {
   "cell_type": "code",
   "execution_count": 16,
   "id": "787deccd-e307-4aa4-b751-02485dbc2118",
   "metadata": {},
   "outputs": [
    {
     "name": "stdout",
     "output_type": "stream",
     "text": [
      "critical value from z table 1.645\n"
     ]
    }
   ],
   "source": [
    "critical_value=stats.norm.ppf(1-aplha)\n",
    "print(\"critical value from z table\",critical_value.round(3))"
   ]
  },
  {
   "cell_type": "code",
   "execution_count": null,
   "id": "c47c07d8-feef-4fa8-811a-c90ac97ade84",
   "metadata": {},
   "outputs": [],
   "source": []
  }
 ],
 "metadata": {
  "kernelspec": {
   "display_name": "Python 3 (ipykernel)",
   "language": "python",
   "name": "python3"
  },
  "language_info": {
   "codemirror_mode": {
    "name": "ipython",
    "version": 3
   },
   "file_extension": ".py",
   "mimetype": "text/x-python",
   "name": "python",
   "nbconvert_exporter": "python",
   "pygments_lexer": "ipython3",
   "version": "3.11.7"
  }
 },
 "nbformat": 4,
 "nbformat_minor": 5
}
